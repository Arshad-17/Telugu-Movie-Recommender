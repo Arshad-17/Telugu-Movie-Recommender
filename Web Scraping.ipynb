{
 "cells": [
  {
   "cell_type": "code",
   "execution_count": 29,
   "metadata": {},
   "outputs": [],
   "source": [
    "import requests\n",
    "import urllib.request\n",
    "import time\n",
    "from bs4 import BeautifulSoup\n",
    "import pandas as pd\n",
    "telugu_movies = pd.DataFrame()\n",
    "\n"
   ]
  },
  {
   "cell_type": "code",
   "execution_count": 30,
   "metadata": {},
   "outputs": [],
   "source": [
    "l =[]\n",
    "k=[]\n",
    "m=[]\n",
    "n=[]\n",
    "o=[]\n",
    "p=[]\n",
    "q=[]\n",
    "r=[]\n",
    "s=[]\n",
    "t=[]"
   ]
  },
  {
   "cell_type": "code",
   "execution_count": 193,
   "metadata": {},
   "outputs": [],
   "source": [
    "url = 'https://www.imdb.com/search/title/?title_type=feature&languages=te&sort=num_votes,desc&start=1351&ref_=adv_nxt'\n",
    "response = requests.get(url)"
   ]
  },
  {
   "cell_type": "code",
   "execution_count": 194,
   "metadata": {},
   "outputs": [
    {
     "data": {
      "text/plain": [
       "<Response [200]>"
      ]
     },
     "execution_count": 194,
     "metadata": {},
     "output_type": "execute_result"
    }
   ],
   "source": [
    "response"
   ]
  },
  {
   "cell_type": "code",
   "execution_count": 195,
   "metadata": {},
   "outputs": [],
   "source": [
    "soup = BeautifulSoup(response.text, \"html.parser\")"
   ]
  },
  {
   "cell_type": "code",
   "execution_count": 196,
   "metadata": {},
   "outputs": [
    {
     "name": "stdout",
     "output_type": "stream",
     "text": [
      "[<span class=\"genre\">\n",
      "Drama            </span>]\n"
     ]
    }
   ],
   "source": [
    "a = soup.findAll('div',{\"class\":\"lister-item-content\"})\n",
    "dummy=a[49].findAll('span',{\"class\":\"genre\"})\n",
    "print(dummy)"
   ]
  },
  {
   "cell_type": "code",
   "execution_count": 197,
   "metadata": {},
   "outputs": [],
   "source": [
    "\n",
    "for i in range(0,50):\n",
    "    l.append(a[i].h3.a.string)\n",
    "    dummy=a[i].findAll('span',{\"class\":\"genre\"})\n",
    "    if dummy == []:\n",
    "        k.append(\"NA\")\n",
    "    else:\n",
    "        k.append(dummy[0].string)\n",
    "    dummy = a[i].p.find('span',class_=\"runtime\")\n",
    "    if dummy == None:\n",
    "        dummy= '0'\n",
    "    else:\n",
    "        dummy = dummy.text\n",
    "        dummy1 = dummy[0:3]\n",
    "        dummy = int(dummy1)\n",
    "    m.append(dummy)\n",
    "    dummy = a[i].strong\n",
    "    if dummy == None:\n",
    "        dummy= '0.0'\n",
    "    else:\n",
    "        dummy = dummy.string\n",
    "        dummy = float(dummy)\n",
    "    o.append(dummy)\n",
    "    dummy=a[i].find('span',attrs= {\"name\":\"nv\"})\n",
    "    if dummy == None:\n",
    "        dummy= '0.0'\n",
    "        \n",
    "    else:\n",
    "        dummy = dummy.string\n",
    "    n.append(dummy)\n",
    "    p.append((a[i].h3.find('span', class_ = 'lister-item-year text-muted unbold')).text)\n",
    "    dummy=a[i].p.find('span',class_ = 'certificate')\n",
    "    if dummy == None:\n",
    "        dummy= '0.0'\n",
    "        q.append(\"NA\")\n",
    "    else:\n",
    "        dummy = dummy.string\n",
    "        q.append(dummy)    \n",
    "    h=a[i].findAll('p',{\"class\":\"text-muted\"})\n",
    "    g=h[1].text\n",
    "    if g == \"\\nAdd a Plot\\n\":\n",
    "        r.append(\"NA\")\n",
    "    else:\n",
    "        r.append(g)\n",
    "    g=\"\"\n",
    "    h=[]\n",
    "    dummy=[]\n",
    "\n"
   ]
  },
  {
   "cell_type": "code",
   "execution_count": 198,
   "metadata": {},
   "outputs": [
    {
     "data": {
      "text/plain": [
       "1400"
      ]
     },
     "execution_count": 198,
     "metadata": {},
     "output_type": "execute_result"
    }
   ],
   "source": [
    "\n",
    "len(l)"
   ]
  },
  {
   "cell_type": "code",
   "execution_count": 199,
   "metadata": {},
   "outputs": [],
   "source": [
    "telugu_movies_popular = pd.DataFrame({\"Movie\":l,\"Year\":p,\"Certificate\":q,\"Genre\":k,\"Overview\":r,\"Runtime\":m,\"Rating\":o,\"No.of.Ratings\":n})"
   ]
  },
  {
   "cell_type": "code",
   "execution_count": 308,
   "metadata": {},
   "outputs": [],
   "source": [
    "telugu_movies = pd.to_numeric(telugu_movies['Runtime'], errors='coerce')"
   ]
  },
  {
   "cell_type": "code",
   "execution_count": 201,
   "metadata": {},
   "outputs": [],
   "source": [
    "telugu_movies_popular.to_csv(\"Popular_telugumovies_dataset.csv\")\n"
   ]
  },
  {
   "cell_type": "code",
   "execution_count": 28,
   "metadata": {},
   "outputs": [
    {
     "data": {
      "text/plain": [
       "Movie                                                       Pokiri\n",
       "Year                                                        (2006)\n",
       "Certificate                                                      A\n",
       "Genre                               \\nAction, Thriller            \n",
       "Overview         \\n    A local goon's killer instincts earn him...\n",
       "Runtime                                                        164\n",
       "Rating                                                         7.9\n",
       "No.of.Ratings                                               12,137\n",
       "Name: 64, dtype: object"
      ]
     },
     "execution_count": 28,
     "metadata": {},
     "output_type": "execute_result"
    }
   ],
   "source": [
    "telugu_movies.iloc[64,:]"
   ]
  },
  {
   "cell_type": "code",
   "execution_count": 23,
   "metadata": {},
   "outputs": [
    {
     "data": {
      "text/plain": [
       "['Kokila',\n",
       " 'Photo',\n",
       " 'Kamli',\n",
       " 'Hyderabad Nawabs',\n",
       " 'Vijay IPS',\n",
       " 'Seetharamudu',\n",
       " 'Mayajalam',\n",
       " 'Manasu Palike Mounaragam',\n",
       " 'Iddaru Attala Muddula Alludu',\n",
       " 'Dongodi Pelli',\n",
       " '10th Class',\n",
       " 'Abaddham',\n",
       " 'Veedhi',\n",
       " 'Sri Krishna 2006',\n",
       " 'Saradha Saradhaga',\n",
       " 'Raja Babu',\n",
       " 'Pellaina Kothalo',\n",
       " 'Pagale Vennela',\n",
       " 'Neeku Naaku',\n",
       " 'Nee Navve Chalu',\n",
       " 'Kitakitalu',\n",
       " 'Indian Beauty',\n",
       " 'Gopi',\n",
       " 'Brahma',\n",
       " 'Aadivaram Aadavaallaku Selavu',\n",
       " 'Thimiru',\n",
       " 'Asadhyudu',\n",
       " 'Maa Iddari Madhya',\n",
       " 'Aadhi Lakshmi',\n",
       " 'Hanumanthu',\n",
       " 'Raam',\n",
       " 'Premante Inthe',\n",
       " 'Aaj Ka Laawaris',\n",
       " 'Pothe Poni',\n",
       " 'Party',\n",
       " 'Evandoi Srivaru',\n",
       " 'Aganthakudu',\n",
       " 'Veyyil',\n",
       " 'Shankar',\n",
       " 'Style',\n",
       " 'Samanyudu',\n",
       " 'Bhagyalakshmi Bumper Draw',\n",
       " 'Tata Birla Madhyalo Laila',\n",
       " 'Hope',\n",
       " 'Game',\n",
       " 'Asthram',\n",
       " 'Rakhi',\n",
       " 'Khatarnak',\n",
       " 'E',\n",
       " 'Mayabazaar',\n",
       " 'Raraju',\n",
       " 'On the Other Side',\n",
       " 'Chinnodu',\n",
       " 'Devadasu',\n",
       " 'Ranam',\n",
       " 'Vikramarkudu',\n",
       " 'Andala Ramudu',\n",
       " 'Shock',\n",
       " 'Sainikudu',\n",
       " 'Boss',\n",
       " 'Bommarillu',\n",
       " 'Vanaja',\n",
       " 'Shiva',\n",
       " 'Amma Cheppindi',\n",
       " 'Pokiri',\n",
       " 'Lakshmi',\n",
       " 'Godavari',\n",
       " 'A Belly Full of Dreams',\n",
       " 'Mudhu',\n",
       " 'Annavaram',\n",
       " 'Happy',\n",
       " 'Chukkallo Chandrudu',\n",
       " 'Ashok',\n",
       " 'Pournami',\n",
       " 'Bangaram',\n",
       " 'Sri Ramadasu',\n",
       " 'Dhoom:2',\n",
       " 'Stalin',\n",
       " 'Shankaravam',\n",
       " 'O Priyathama',\n",
       " 'Naa Kalalo Neeve',\n",
       " 'Mulla Kireetam',\n",
       " 'Evaru Nenu',\n",
       " 'Devi Abhayam',\n",
       " 'Kadante Avnanile',\n",
       " 'Meenakshi',\n",
       " 'Bhama Kalapam',\n",
       " 'Vamsam',\n",
       " 'Nayakudu',\n",
       " 'Okkade',\n",
       " '123 from Amalapuram',\n",
       " 'Please Naaku Pellaindi',\n",
       " 'Nuvvante Nakistam',\n",
       " 'Nireekshana',\n",
       " 'Jagapathi',\n",
       " 'Naa Pranamkante Ekkuva',\n",
       " 'Andagadu',\n",
       " 'Prayatnam',\n",
       " 'Manasu Mata Vinadu',\n",
       " 'Pandem']"
      ]
     },
     "execution_count": 23,
     "metadata": {},
     "output_type": "execute_result"
    }
   ],
   "source": [
    "l"
   ]
  },
  {
   "cell_type": "code",
   "execution_count": null,
   "metadata": {},
   "outputs": [],
   "source": []
  }
 ],
 "metadata": {
  "kernelspec": {
   "display_name": "Python 3",
   "language": "python",
   "name": "python3"
  },
  "language_info": {
   "codemirror_mode": {
    "name": "ipython",
    "version": 3
   },
   "file_extension": ".py",
   "mimetype": "text/x-python",
   "name": "python",
   "nbconvert_exporter": "python",
   "pygments_lexer": "ipython3",
   "version": "3.7.6"
  }
 },
 "nbformat": 4,
 "nbformat_minor": 2
}
